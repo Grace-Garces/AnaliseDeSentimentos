from wordcloud import WordCloud
import matplotlib.pyplot as plt
import pandas as pd
import json
import re

# Caminho do arquivo JSON
caminho_json = r"dados.json"

with open(caminho_json, "r", encoding="utf-8") as f:
    dados = json.load(f)

df = pd.DataFrame(dados)
stopwords_personalizadas = {"chatgpt", "app", "software", "ai", "bot", "gpt"}
palavras_positivas = {"good", "great", "excellent"}

def limpar_texto(texto, remover_palavras_positivas=False):
    if texto is None:  # Verifica se o texto é None
        return "" 
    
    texto = texto.lower() 
    texto = re.sub(r'\bchat\s?gpt\b', '', texto)  # Remover variações de "ChatGPT"
    texto = re.sub(r'\bapp\b', '', texto)  # Remover variações de "App"
    texto = re.sub(r'[^a-z\s]', '', texto)
  
    palavras = texto.split()
    palavras_filtradas = [palavra for palavra in palavras if palavra not in stopwords_personalizadas]
    palavras_relevantes = [palavra for palavra in palavras_filtradas if len(palavra) > 1]
    if remover_palavras_positivas:
        palavras_relevantes = [word for word in palavras_relevantes if word not in palavras_positivas]

    return " ".join(palavras_relevantes)


# Criar coluna 'Sentimento' com base na coluna de Ratings
def definir_sentimento(nota):
    if nota >= 4:
        return "Positivo"
    elif nota <= 2:
        return "Negativo"
    else:
        return "Neutro"

if 'Ratings' in df.columns:
    df["Sentimento"] = df["Ratings"].apply(definir_sentimento)
else:
    print("⚠️ A coluna 'Ratings' não está presente no DataFrame!")

df["Review_Limpo"] = df.apply(
    lambda row: limpar_texto(row["Review"], remover_palavras_positivas=row["Sentimento"] == "Negativo"), axis=1
)

# Criar coluna 'Sentimento' com base na coluna de ratings
def definir_sentimento(nota):
    if nota >= 4:
        return "Positivo"
    elif nota <= 2:
        return "Negativo"
    else:
        return "Neutro"

df["Sentimento"] = df["Ratings"].apply(definir_sentimento)

# Aplicar limpeza para avaliações positivas e negativas
df["Review_Limpo"] = df.apply(
    lambda row: limpar_texto(row["Review"], remover_palavras_positivas=row["Sentimento"] == "Negativo"), axis=1
)

texto_positivo = " ".join(df[df["Sentimento"] == "Positivo"]["Review_Limpo"].dropna())
texto_negativo = " ".join(df[df["Sentimento"] == "Negativo"]["Review_Limpo"].dropna())

plt.figure(figsize=(12, 5))

# Nuvem de palavras para avaliações positivas
wordcloud_pos = WordCloud(width=800, height=400, background_color="white").generate(texto_positivo)
plt.subplot(1, 2, 1)
plt.imshow(wordcloud_pos, interpolation="bilinear")
plt.axis("off")
plt.title("🔹 Palavras mais frequentes em avaliações POSITIVAS")

# Nuvem de palavras para avaliações negativas
if len(texto_negativo) > 0:
    wordcloud_neg = WordCloud(width=800, height=400, background_color="black", colormap="Reds").generate(texto_negativo)
    plt.subplot(1, 2, 2)
    plt.imshow(wordcloud_neg, interpolation="bilinear")
    plt.axis("off")
    plt.title("🔻 Palavras mais frequentes em avaliações NEGATIVAS")
else:
    print("⚠️ O texto das avaliações negativas está vazio! A nuvem de palavras não será gerada.")

plt.show()
